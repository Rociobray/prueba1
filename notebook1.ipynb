{
 "cells": [
  {
   "cell_type": "markdown",
   "id": "90c60a76-b0ca-4864-824b-d2099edb25f9",
   "metadata": {},
   "source": [
    "Titulo\n",
    "\n",
    "= punto 1\n",
    "= punto 2"
   ]
  },
  {
   "cell_type": "code",
   "execution_count": 2,
   "id": "5f607052-ec6d-4471-9dc2-0caf474d4825",
   "metadata": {},
   "outputs": [
    {
     "data": {
      "text/plain": [
       "3"
      ]
     },
     "execution_count": 2,
     "metadata": {},
     "output_type": "execute_result"
    }
   ],
   "source": [
    "1 + 2"
   ]
  },
  {
   "cell_type": "code",
   "execution_count": 5,
   "id": "030c54c8-a071-4b05-aa50-0e7dee39fcb9",
   "metadata": {},
   "outputs": [
    {
     "data": {
      "text/plain": [
       "<function dir>"
      ]
     },
     "execution_count": 5,
     "metadata": {},
     "output_type": "execute_result"
    }
   ],
   "source": [
    "dir"
   ]
  },
  {
   "cell_type": "code",
   "execution_count": 6,
   "id": "5496feec-116d-45c5-9cf4-3cd59ebb3af8",
   "metadata": {},
   "outputs": [
    {
     "data": {
      "text/plain": [
       "'C:\\\\Users\\\\rocio\\\\mi-proyecto\\\\prueba1'"
      ]
     },
     "execution_count": 6,
     "metadata": {},
     "output_type": "execute_result"
    }
   ],
   "source": [
    "pwd\n"
   ]
  },
  {
   "cell_type": "code",
   "execution_count": 7,
   "id": "93f6788d-bc8a-4deb-a2cf-f6ef8f0b9ac5",
   "metadata": {},
   "outputs": [
    {
     "name": "stdout",
     "output_type": "stream",
     "text": [
      " El volumen de la unidad C es Windows\n",
      " El n£mero de serie del volumen es: 0EFC-E23C\n",
      "\n",
      " Directorio de C:\\Users\\rocio\\mi-proyecto\\prueba1\n",
      "\n",
      "16/05/2025  10:19    <DIR>          .\n",
      "15/05/2025  22:50    <DIR>          ..\n",
      "16/05/2025  10:07    <DIR>          .ipynb_checkpoints\n",
      "15/05/2025  23:10                12 prueba1.txt\n",
      "16/05/2025  00:37                21 prueba2.txt\n",
      "16/05/2025  00:17                23 prueba3.txt\n",
      "16/05/2025  09:42               306 README.md\n",
      "16/05/2025  10:19             1.852 Untitled.ipynb\n",
      "               5 archivos          2.214 bytes\n",
      "               3 dirs  49.570.254.848 bytes libres\n"
     ]
    }
   ],
   "source": [
    "!dir"
   ]
  },
  {
   "cell_type": "markdown",
   "id": "605197ed-0175-4cc9-88d8-d99eba25b956",
   "metadata": {},
   "source": [
    "# Titulo\n",
    "\n",
    "## Subtitulo\n",
    "\n",
    "Texto bla bla\n"
   ]
  }
 ],
 "metadata": {
  "kernelspec": {
   "display_name": "Python 3 (ipykernel)",
   "language": "python",
   "name": "python3"
  },
  "language_info": {
   "codemirror_mode": {
    "name": "ipython",
    "version": 3
   },
   "file_extension": ".py",
   "mimetype": "text/x-python",
   "name": "python",
   "nbconvert_exporter": "python",
   "pygments_lexer": "ipython3",
   "version": "3.13.2"
  }
 },
 "nbformat": 4,
 "nbformat_minor": 5
}
