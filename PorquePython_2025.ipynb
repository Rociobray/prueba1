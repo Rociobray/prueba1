{
 "cells": [
  {
   "cell_type": "code",
   "execution_count": 1,
   "id": "8d76fb50-b490-4fb9-a914-4b3dc2866d42",
   "metadata": {},
   "outputs": [
    {
     "ename": "ModuleNotFoundError",
     "evalue": "No module named 'numpy'",
     "output_type": "error",
     "traceback": [
      "\u001b[31m------------------------------------------------------------------------\u001b[39m",
      "\u001b[31mModuleNotFoundError\u001b[39m                    Traceback (most recent call last)",
      "\u001b[36mCell\u001b[39m\u001b[36m \u001b[39m\u001b[32mIn[1]\u001b[39m\u001b[32m, line 1\u001b[39m\n\u001b[32m----> \u001b[39m\u001b[32m1\u001b[39m \u001b[38;5;28;01mimport\u001b[39;00m\u001b[38;5;250m \u001b[39m\u001b[34;01mnumpy\u001b[39;00m\u001b[38;5;250m \u001b[39m\u001b[38;5;28;01mas\u001b[39;00m\u001b[38;5;250m \u001b[39m\u001b[34;01mnp\u001b[39;00m\n\u001b[32m      2\u001b[39m \u001b[38;5;28;01mimport\u001b[39;00m\u001b[38;5;250m \u001b[39m\u001b[34;01mmatplotlib\u001b[39;00m\u001b[34;01m.\u001b[39;00m\u001b[34;01mpyplot\u001b[39;00m\u001b[38;5;250m \u001b[39m\u001b[38;5;28;01mas\u001b[39;00m\u001b[38;5;250m \u001b[39m\u001b[34;01mplt\u001b[39;00m\n",
      "\u001b[31mModuleNotFoundError\u001b[39m: No module named 'numpy'"
     ]
    }
   ],
   "source": [
    "import numpy as np\n",
    "import matplotlib.pyplot as plt"
   ]
  },
  {
   "cell_type": "code",
   "execution_count": 2,
   "id": "78e27f68-b538-4c7b-93e1-8eff63df7df2",
   "metadata": {},
   "outputs": [
    {
     "name": "stdout",
     "output_type": "stream",
     "text": [
      "Requirement already satisfied: numpy in c:\\users\\rocio\\miniconda3\\lib\\site-packages (2.2.5)\n",
      "Requirement already satisfied: matplotlib in c:\\users\\rocio\\miniconda3\\lib\\site-packages (3.10.3)\n",
      "Requirement already satisfied: contourpy>=1.0.1 in c:\\users\\rocio\\miniconda3\\lib\\site-packages (from matplotlib) (1.3.2)\n",
      "Requirement already satisfied: cycler>=0.10 in c:\\users\\rocio\\miniconda3\\lib\\site-packages (from matplotlib) (0.12.1)\n",
      "Requirement already satisfied: fonttools>=4.22.0 in c:\\users\\rocio\\miniconda3\\lib\\site-packages (from matplotlib) (4.58.0)\n",
      "Requirement already satisfied: kiwisolver>=1.3.1 in c:\\users\\rocio\\miniconda3\\lib\\site-packages (from matplotlib) (1.4.8)\n",
      "Requirement already satisfied: packaging>=20.0 in c:\\users\\rocio\\miniconda3\\lib\\site-packages (from matplotlib) (24.2)\n",
      "Requirement already satisfied: pillow>=8 in c:\\users\\rocio\\miniconda3\\lib\\site-packages (from matplotlib) (11.2.1)\n",
      "Requirement already satisfied: pyparsing>=2.3.1 in c:\\users\\rocio\\miniconda3\\lib\\site-packages (from matplotlib) (3.2.3)\n",
      "Requirement already satisfied: python-dateutil>=2.7 in c:\\users\\rocio\\miniconda3\\lib\\site-packages (from matplotlib) (2.9.0.post0)\n",
      "Requirement already satisfied: six>=1.5 in c:\\users\\rocio\\miniconda3\\lib\\site-packages (from python-dateutil>=2.7->matplotlib) (1.17.0)\n"
     ]
    }
   ],
   "source": [
    "!pip install numpy matplotlib"
   ]
  },
  {
   "cell_type": "code",
   "execution_count": 3,
   "id": "1ce2fe7b-dc11-42dc-b17a-246f07fad5b9",
   "metadata": {},
   "outputs": [],
   "source": [
    "import numpy as np\n",
    "import matplotlib.pyplot as plt"
   ]
  },
  {
   "cell_type": "code",
   "execution_count": 4,
   "id": "b2ac3d17-95d5-4dba-9d28-009cf6eaf067",
   "metadata": {},
   "outputs": [],
   "source": [
    "masa = 47.5\n",
    "edad = 122\n",
    "masa = masa * 2\n",
    "edad = edad - 20"
   ]
  },
  {
   "cell_type": "code",
   "execution_count": 5,
   "id": "8e8a5879-3f20-453f-89da-a7560c490929",
   "metadata": {},
   "outputs": [
    {
     "name": "stdout",
     "output_type": "stream",
     "text": [
      "95.0 102\n"
     ]
    }
   ],
   "source": [
    "print(masa,edad)"
   ]
  },
  {
   "cell_type": "code",
   "execution_count": 6,
   "id": "352c9ec8-18c8-41fa-910d-9ff489c313d6",
   "metadata": {},
   "outputs": [
    {
     "data": {
      "text/plain": [
       "float"
      ]
     },
     "execution_count": 6,
     "metadata": {},
     "output_type": "execute_result"
    }
   ],
   "source": [
    "type(masa)"
   ]
  },
  {
   "cell_type": "code",
   "execution_count": 7,
   "id": "7601c721-e12e-487a-bc58-e705ee2004aa",
   "metadata": {},
   "outputs": [
    {
     "data": {
      "text/plain": [
       "int"
      ]
     },
     "execution_count": 7,
     "metadata": {},
     "output_type": "execute_result"
    }
   ],
   "source": [
    "type (edad)"
   ]
  },
  {
   "cell_type": "code",
   "execution_count": 8,
   "id": "eca45aef-931c-4b26-9c7e-e14d0f7da938",
   "metadata": {},
   "outputs": [],
   "source": [
    "name = \"Rocio Luciana Bray\""
   ]
  },
  {
   "cell_type": "code",
   "execution_count": 9,
   "id": "d9f56869-1467-4834-8061-98348b9c3505",
   "metadata": {},
   "outputs": [
    {
     "data": {
      "text/plain": [
       "str"
      ]
     },
     "execution_count": 9,
     "metadata": {},
     "output_type": "execute_result"
    }
   ],
   "source": [
    "type(name)"
   ]
  },
  {
   "cell_type": "code",
   "execution_count": 10,
   "id": "1591fdcf-92b4-4c67-8d6a-996bd84ed652",
   "metadata": {},
   "outputs": [],
   "source": [
    "#Creo matrices\n",
    "a = np.random.normal(size=(15,2,1))"
   ]
  },
  {
   "cell_type": "code",
   "execution_count": 11,
   "id": "4edc4e6d-87c6-42f2-a390-a40b9f432c12",
   "metadata": {},
   "outputs": [
    {
     "name": "stdout",
     "output_type": "stream",
     "text": [
      "[[[ 0.38316886]\n",
      "  [-0.68808435]]\n",
      "\n",
      " [[ 0.82569596]\n",
      "  [-0.88896385]]\n",
      "\n",
      " [[ 1.77195318]\n",
      "  [-0.53072768]]\n",
      "\n",
      " [[ 0.27054127]\n",
      "  [-0.77701212]]\n",
      "\n",
      " [[-0.79950463]\n",
      "  [ 1.00924944]]\n",
      "\n",
      " [[ 1.72669745]\n",
      "  [ 0.15285079]]\n",
      "\n",
      " [[-0.17382518]\n",
      "  [ 1.85552672]]\n",
      "\n",
      " [[ 0.18167978]\n",
      "  [ 0.00861432]]\n",
      "\n",
      " [[-0.22170092]\n",
      "  [-1.84237774]]\n",
      "\n",
      " [[-0.67429107]\n",
      "  [ 0.18298492]]\n",
      "\n",
      " [[ 0.10760062]\n",
      "  [-0.04578351]]\n",
      "\n",
      " [[-1.66041834]\n",
      "  [-1.26858432]]\n",
      "\n",
      " [[-0.09972527]\n",
      "  [ 0.0348294 ]]\n",
      "\n",
      " [[ 1.62159533]\n",
      "  [-0.11195684]]\n",
      "\n",
      " [[-2.24589884]\n",
      "  [-1.78672095]]]\n"
     ]
    }
   ],
   "source": [
    "print(a)"
   ]
  },
  {
   "cell_type": "code",
   "execution_count": 15,
   "id": "28fb6c3f-a877-4707-ae97-813d0f089b6c",
   "metadata": {},
   "outputs": [
    {
     "name": "stdout",
     "output_type": "stream",
     "text": [
      "o\n",
      "a Bray\n",
      "Rocio\n"
     ]
    }
   ],
   "source": [
    "#Orden-empieza en 0\n",
    "nombre = \"Rocio Luciana Bray\"\n",
    "print(nombre[4])\n",
    "print(nombre[-6:])\n",
    "print(nombre[:5])"
   ]
  },
  {
   "cell_type": "code",
   "execution_count": 17,
   "id": "aedb5f11-731a-4570-b9fa-60158abf7391",
   "metadata": {},
   "outputs": [],
   "source": [
    "data = [[\"A\",\"B\",\"C\"],[\"D\",\"E\",\"F\"],[\"G\",\"H\",\"I\"]]"
   ]
  },
  {
   "cell_type": "code",
   "execution_count": 18,
   "id": "5697ab76-2358-48ac-be7b-28052614b823",
   "metadata": {},
   "outputs": [
    {
     "name": "stdout",
     "output_type": "stream",
     "text": [
      "[['A', 'B', 'C'], ['D', 'E', 'F'], ['G', 'H', 'I']]\n"
     ]
    }
   ],
   "source": [
    "print(data)"
   ]
  },
  {
   "cell_type": "code",
   "execution_count": 19,
   "id": "954678de-5ff5-475c-bffe-a4ebaf3ad2eb",
   "metadata": {},
   "outputs": [],
   "source": [
    "data=np.matrix(data)"
   ]
  },
  {
   "cell_type": "code",
   "execution_count": 21,
   "id": "ddd4ec08-9597-4583-921f-7a99458ef671",
   "metadata": {},
   "outputs": [
    {
     "name": "stdout",
     "output_type": "stream",
     "text": [
      "[['A' 'B' 'C']\n",
      " ['D' 'E' 'F']\n",
      " ['G' 'H' 'I']]\n",
      "F\n"
     ]
    }
   ],
   "source": [
    "print(data[:,:])#imprimo matriz\n",
    "print(data[1,2])#imprime elemento f1,C2"
   ]
  },
  {
   "cell_type": "code",
   "execution_count": 22,
   "id": "160903b7-ff86-42e8-bc08-39cca07e4cc4",
   "metadata": {},
   "outputs": [
    {
     "data": {
      "text/plain": [
       "(3, 3)"
      ]
     },
     "execution_count": 22,
     "metadata": {},
     "output_type": "execute_result"
    }
   ],
   "source": [
    "np.shape(data)"
   ]
  },
  {
   "cell_type": "code",
   "execution_count": 23,
   "id": "6c02008d-b830-47bd-80bc-4e26ae3d57f8",
   "metadata": {},
   "outputs": [],
   "source": [
    "#Calculos dentro de la matriz\n",
    "data_n=[[1,2,3],[4,5,6],[7,8,9]]\n",
    "data_n=np.matrix(data_n)"
   ]
  },
  {
   "cell_type": "code",
   "execution_count": 24,
   "id": "830264c0-1661-4d72-935c-79ef4b39366b",
   "metadata": {},
   "outputs": [
    {
     "name": "stdout",
     "output_type": "stream",
     "text": [
      "[[1 2 3]\n",
      " [4 5 6]\n",
      " [7 8 9]]\n"
     ]
    }
   ],
   "source": [
    "print(data_n[:,:])"
   ]
  },
  {
   "cell_type": "code",
   "execution_count": 27,
   "id": "22eb375e-4633-4fe1-bcc5-df3cf43145e9",
   "metadata": {},
   "outputs": [
    {
     "data": {
      "text/plain": [
       "matrix([[1, 2, 3]])"
      ]
     },
     "execution_count": 27,
     "metadata": {},
     "output_type": "execute_result"
    }
   ],
   "source": [
    "np.min(data_n,axis=0)#filas y columnas"
   ]
  },
  {
   "cell_type": "code",
   "execution_count": 33,
   "id": "8d286edd-5277-404d-b5e1-ab61ab0554f9",
   "metadata": {},
   "outputs": [
    {
     "name": "stdout",
     "output_type": "stream",
     "text": [
      "1\n"
     ]
    }
   ],
   "source": [
    "np.min(data_n)\n",
    "print(str(num))"
   ]
  },
  {
   "cell_type": "code",
   "execution_count": 37,
   "id": "09f8a269-5975-4e43-a376-2fb42b37747f",
   "metadata": {},
   "outputs": [
    {
     "name": "stdout",
     "output_type": "stream",
     "text": [
      "1 is not greater than 5\n",
      "done\n"
     ]
    }
   ],
   "source": [
    "#Condicionales\n",
    "num = np.min(data_n)\n",
    "if num >= 5:\n",
    "    print(str(num), \"is greater than 5\")\n",
    "else:\n",
    "    print(str(num), \"is not greater than 5\")\n",
    "print(\"done\")"
   ]
  },
  {
   "cell_type": "code",
   "execution_count": 44,
   "id": "fc77989b-b17b-4486-b32c-9bfbfcc3518d",
   "metadata": {},
   "outputs": [
    {
     "data": {
      "image/png": "[encoded data removed]",
      "text/plain": [
       "<Figure size 640x480 with 1 Axes>"
      ]
     },
     "metadata": {},
     "output_type": "display_data"
    }
   ],
   "source": [
    "#Graficamos\n",
    "fig, ax = plt.subplots()\n",
    "ax =plt.plot(a[0,:],color=\"lightblue\", linewidth=\"2.5\", linestyle=\"dashed\")\n",
    "plt.xlabel(\"axis x\")\n",
    "plt.ylabel(\"axis y\")\n",
    "plt.title(\"Figura de ejemplo\")\n",
    "plt.show()"
   ]
  }
 ],
 "metadata": {
  "kernelspec": {
   "display_name": "Python 3 (ipykernel)",
   "language": "python",
   "name": "python3"
  },
  "language_info": {
   "codemirror_mode": {
    "name": "ipython",
    "version": 3
   },
   "file_extension": ".py",
   "mimetype": "text/x-python",
   "name": "python",
   "nbconvert_exporter": "python",
   "pygments_lexer": "ipython3",
   "version": "3.13.2"
  }
 },
 "nbformat": 4,
 "nbformat_minor": 5
}
